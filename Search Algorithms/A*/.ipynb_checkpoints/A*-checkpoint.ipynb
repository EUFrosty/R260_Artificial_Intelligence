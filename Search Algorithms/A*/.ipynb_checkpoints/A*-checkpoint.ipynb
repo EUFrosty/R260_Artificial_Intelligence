{
 "cells": [
  {
   "cell_type": "code",
   "execution_count": 26,
   "id": "f6fd0d99",
   "metadata": {},
   "outputs": [],
   "source": [
    "import math\n",
    "import json\n",
    "import copy\n",
    "from typing import List\n",
    "from collections import defaultdict\n"
   ]
  },
  {
   "cell_type": "code",
   "execution_count": 27,
   "id": "ad5bda2b",
   "metadata": {},
   "outputs": [],
   "source": [
    "def euclid(a,b):\n",
    "    return math.sqrt((a.x-b.x)**2 + (a.y-b.y)**2)\n",
    "\n",
    "def manhattan(a,b):\n",
    "    return abs(a.x-b.x)+bs(a.y-b.y)\n",
    "\n",
    "def chebyshev(a,b):\n",
    "    return max(abs(a.x - b.x), abs(a.y - b.y))"
   ]
  },
  {
   "cell_type": "code",
   "execution_count": 28,
   "id": "5f93fd69",
   "metadata": {},
   "outputs": [],
   "source": [
    "##LOJDOVA SLAGALICA"
   ]
  },
  {
   "cell_type": "code",
   "execution_count": 29,
   "id": "13c0d48e",
   "metadata": {},
   "outputs": [],
   "source": [
    "start = [\n",
    "    [4,1,3],\n",
    "    [0,2,5],\n",
    "    [7,8,6]\n",
    "]\n",
    "target = [\n",
    "    [1,2,3],\n",
    "    [4,5,6],\n",
    "    [7,8,0]\n",
    "]"
   ]
  },
  {
   "cell_type": "code",
   "execution_count": 30,
   "id": "73ce86a1",
   "metadata": {},
   "outputs": [],
   "source": [
    "##Funkcije za serijalizaciju i deserijalizaciju\n",
    "def serialize(matrix):\n",
    "    return json.dumps(matrix)\n",
    "\n",
    "def deserialize(value:str):\n",
    "    return json.loads(value)"
   ]
  },
  {
   "cell_type": "code",
   "execution_count": 31,
   "id": "3d959c8b",
   "metadata": {},
   "outputs": [],
   "source": [
    "##Funkcija za nalazenje target polja\n",
    "def find_in_matrix(value, matrix):\n",
    "    n = len(matrix)\n",
    "    m = len(matrix[0])\n",
    "    for i in range(n):\n",
    "        for j in range(m):\n",
    "            if value == matrix[i][j]:\n",
    "                return i, j\n",
    "    return None, None"
   ]
  },
  {
   "cell_type": "code",
   "execution_count": 32,
   "id": "4a1e0f37",
   "metadata": {},
   "outputs": [],
   "source": [
    "def manhattan_sum(trenutni_node, target_node):\n",
    "    A = deserialize(trenutni_node)\n",
    "    B = deserialize(target_node)\n",
    "    \n",
    "    n = len(A)\n",
    "    H = 0\n",
    "    \n",
    "    for i in range(n):\n",
    "        for j in range(n):\n",
    "            value = A[i][j]\n",
    "            target_i, target_j = find_in_matrix(value, B)\n",
    "            H += abs(i - target_i) + abs(j - target_j)\n",
    "    return H"
   ]
  },
  {
   "cell_type": "code",
   "execution_count": 33,
   "id": "e431ec5b",
   "metadata": {},
   "outputs": [],
   "source": [
    "class Edge:\n",
    "    def __init__(self, start, end, weight:float):\n",
    "        self.start = start\n",
    "        self.end = end\n",
    "        self.weight = weight\n",
    "        "
   ]
  },
  {
   "cell_type": "code",
   "execution_count": 34,
   "id": "775db94b",
   "metadata": {},
   "outputs": [],
   "source": [
    "def iterate_edges(state:str):\n",
    "    matrix = deserialize(state)\n",
    "    blank_i, blank_j = -1, -1\n",
    "    \n",
    "    n = len(matrix)\n",
    "    for i in range(n):\n",
    "        for j in range(n):\n",
    "            if matrix[i][j] == 0:\n",
    "                blank_i, blank_j = i, j\n",
    "                break\n",
    "    neighbours = []\n",
    "    if blank_i > 0:\n",
    "        new_matrix = copy.deepcopy(matrix)\n",
    "        new_matrix[blank_i][blank_j] = new_matrix[blank_i - 1][blank_j]\n",
    "        new_matrix[blank_i - 1][blank_j] = 0\n",
    "        new_matrix[blank_i - 1][blank_j] = 0\n",
    "        neighbours.append(Edge(matrix, serialize(new_matrix), 1))\n",
    "        \n",
    "    if blank_i < (n-1):\n",
    "        new_matrix = copy.deepcopy(matrix)\n",
    "        new_matrix[blank_i][blank_j] = new_matrix[blank_i + 1][blank_j]\n",
    "        new_matrix[blank_i + 1][blank_j] = 0\n",
    "        neighbours.append(Edge(matrix, serialize(new_matrix), 1))\n",
    "    \n",
    "    if blank_j > 0:\n",
    "        new_matrix = copy.deepcopy(matrix)\n",
    "        new_matrix[blank_i][blank_j] = new_matrix[blank_i][blank_j - 1]\n",
    "        new_matrix[blank_i][blank_j - 1] = 0\n",
    "        neighbours.append(Edge(matrix, serialize(new_matrix), 1))\n",
    "    \n",
    "    if blank_j < (n-1):\n",
    "        new_matrix = copy.deepcopy(matrix)\n",
    "        new_matrix[blank_i][blank_j] = new_matrix[blank_i][blank_j + 1]\n",
    "        new_matrix[blank_i][blank_j + 1] = 0\n",
    "        neighbours.append(Edge(matrix, serialize(new_matrix), 1))\n",
    "    \n",
    "    return neighbours"
   ]
  },
  {
   "cell_type": "code",
   "execution_count": 35,
   "id": "6f9632c8",
   "metadata": {},
   "outputs": [],
   "source": [
    "def astar_loyd(start, end, h):\n",
    "    open_set, closed_set = set([start]), set()\n",
    "    \n",
    "    cheapest_paths = defaultdict (lambda: float('inf'))\n",
    "    \n",
    "    parent = {start: None}\n",
    "    \n",
    "    def get_best():\n",
    "        result, result_value = None, float('inf')\n",
    "        for node in open_set:\n",
    "            new_value = cheapest_paths[node] + h(node, end)\n",
    "            if not result or new_value < result_value:\n",
    "                result, result_value = node, new_value\n",
    "        return result\n",
    "    \n",
    "    path_found = False\n",
    "    while len(open_set) > 0:\n",
    "        current = get_best()\n",
    "        if current == end:\n",
    "            path_found = True\n",
    "            break\n",
    "        for edge in iterate_edges(current):\n",
    "            neighbour = edge.end\n",
    "            new_path_to_neighbour_weight = cheapest_paths[current] + edge.weight\n",
    "            if neighbour not in open_set and neighbour not in closed_set:\n",
    "                open_set.add(neighbour)\n",
    "                parent[neighbour] = current\n",
    "                cheapest_paths[neighbour] = new_path_to_neighbour_weight\n",
    "            elif new_path_to_neighbour_weight < cheapest_paths[neighbour]:\n",
    "                parent[neighbour] = current\n",
    "                cheapest_paths[neighbour] = new_path_to_neighbour_weight\n",
    "                if neighbour in closed_set:\n",
    "                    closed_set.remove(neighbour)\n",
    "                    open_set.add(neighbour)\n",
    "        open_set.remove(current)\n",
    "        closed_set.add(current)\n",
    "    if path_found:\n",
    "        path = []\n",
    "        while end is not None:\n",
    "            path.append(end)\n",
    "            end = parent[end]\n",
    "        path.reverse()\n",
    "        return path\n",
    "    else:\n",
    "        return None"
   ]
  },
  {
   "cell_type": "code",
   "execution_count": 36,
   "id": "bbdf2a40",
   "metadata": {},
   "outputs": [
    {
     "data": {
      "text/plain": [
       "['[[4, 1, 3], [0, 2, 5], [7, 8, 6]]',\n",
       " '[[0, 1, 3], [4, 2, 5], [7, 8, 6]]',\n",
       " '[[1, 0, 3], [4, 2, 5], [7, 8, 6]]',\n",
       " '[[1, 2, 3], [4, 0, 5], [7, 8, 6]]',\n",
       " '[[1, 2, 3], [4, 5, 0], [7, 8, 6]]',\n",
       " '[[1, 2, 3], [4, 5, 6], [7, 8, 0]]']"
      ]
     },
     "execution_count": 36,
     "metadata": {},
     "output_type": "execute_result"
    }
   ],
   "source": [
    " astar_loyd(serialize(start), serialize(target), manhattan_sum)"
   ]
  },
  {
   "cell_type": "code",
   "execution_count": 1,
   "id": "5979261f",
   "metadata": {},
   "outputs": [],
   "source": [
    "##LAVIRINT\n",
    "\n",
    "\n",
    "\n",
    "\n",
    "\n",
    "\n",
    "\n",
    "\n",
    "\n",
    "\n",
    "\n",
    "\n"
   ]
  },
  {
   "cell_type": "code",
   "execution_count": 2,
   "id": "84cea157",
   "metadata": {},
   "outputs": [],
   "source": [
    "maze_matrix = [['S', '#', '.', '.', 'X', '#', '#', '.'],\n",
    "               ['.', 'X', '#', '.', 'X', '#', '#', '.'],\n",
    "               ['.', '.', '.', '.', '.', '#', 'X', '.'],\n",
    "               ['.', 'X', 'X', '#', 'X', '.', 'X', '.'],\n",
    "               ['#', '.', '.', '.', 'X', '.', 'X', '.'],\n",
    "               ['.', 'X', '#', '#', '.', '#', '.', '.'],\n",
    "               ['.', '#', '.', '.', 'X', '.', '#', '.'],\n",
    "               ['.', '#', '.', '.', 'X', '#', '#', 'F']]"
   ]
  },
  {
   "cell_type": "code",
   "execution_count": 3,
   "id": "a84fd47a",
   "metadata": {},
   "outputs": [],
   "source": [
    "class Maze:\n",
    "    def __init__(self, maze_matrix):\n",
    "            self.start, self.finish, self.G = convert_matrix_to_graph(maze_matrix)\n",
    "    \n",
    "    def convert_matrix_to_graph(self, maze_matrix):\n",
    "        G = {}\n",
    "        start = None\n",
    "        finish = None\n",
    "        n = len(maze_matrix)\n",
    "        m = len(maze_matrix[0])\n",
    "        \n",
    "        for i in range(n):\n",
    "            for j in range(m):\n",
    "                v = (i, j)\n",
    "                neighbours = []\n",
    "                if maze_matrix[i][j] != 'X':\n",
    "                    if maze_matrix[i][j] == 'S':\n",
    "                        start = v\n",
    "                    if maze_matrix[i][j] == 'F':\n",
    "                        finish = v\n",
    "                    if i > 0:\n",
    "                        if maze_matrix[i-1][j] != 'X':\n",
    "                            w = (i-1, j)\n",
    "                            if maze_matrix [i-1][j] == '#':\n",
    "                                weight = 2\n",
    "                            else:\n",
    "                                weight = 1\n",
    "                            neighbours.append((w, weight))\n",
    "                    if i < n-1:\n",
    "                        if maze_matrix[i+1][j] != 'X':\n",
    "                            w = (i+1, j)\n",
    "                            if maze_matrix [i+1][j] == '#':\n",
    "                                weight = 2\n",
    "                            else:\n",
    "                                weight = 1\n",
    "                            neighbours.append((w, weight))\n",
    "                    if j > 0:\n",
    "                        if maze_matrix[i][j - 1] != 'X':\n",
    "                            w = (i, j-1)\n",
    "                            if maze_matrix [i][j-1] == '#':\n",
    "                                weight = 2\n",
    "                            else:\n",
    "                                weight = 1\n",
    "                            neighbours.append((w, weight))\n",
    "                    if j < n-1:\n",
    "                        if maze_matrix[i][j + 1] != 'X':\n",
    "                            w = (i, j+1)\n",
    "                            if maze_matrix [i][j+1] == '#':\n",
    "                                weight = 2\n",
    "                            else:\n",
    "                                weight = 1\n",
    "                            neighbours.append((w, weight))      \n",
    "                G[v] = neighbours\n",
    "        return start, finish, G"
   ]
  },
  {
   "cell_type": "code",
   "execution_count": 4,
   "id": "ec299b50",
   "metadata": {},
   "outputs": [],
   "source": [
    "def convert_matrix_to_graph(maze_matrix):\n",
    "        G = {}\n",
    "        start = None\n",
    "        finish = None\n",
    "        n = len(maze_matrix)\n",
    "        m = len(maze_matrix[0])\n",
    "        \n",
    "        for i in range(n):\n",
    "            for j in range(m):\n",
    "                v = (i, j)\n",
    "                neighbours = []\n",
    "                if maze_matrix[i][j] != 'X':\n",
    "                    if maze_matrix[i][j] == 'S':\n",
    "                        start = v\n",
    "                    if maze_matrix[i][j] == 'F':\n",
    "                        finish = v\n",
    "                    if i > 0:\n",
    "                        if maze_matrix[i-1][j] != 'X':\n",
    "                            w = (i-1, j)\n",
    "                            if maze_matrix [i-1][j] == '#':\n",
    "                                weight = 2\n",
    "                            else:\n",
    "                                weight = 1\n",
    "                            neighbours.append((w, weight))\n",
    "                    if i < n-1:\n",
    "                        if maze_matrix[i+1][j] != 'X':\n",
    "                            w = (i+1, j)\n",
    "                            if maze_matrix [i+1][j] == '#':\n",
    "                                weight = 2\n",
    "                            else:\n",
    "                                weight = 1\n",
    "                            neighbours.append((w, weight))\n",
    "                    if j > 0:\n",
    "                        if maze_matrix[i][j - 1] != 'X':\n",
    "                            w = (i, j-1)\n",
    "                            if maze_matrix [i][j-1] == '#':\n",
    "                                weight = 2\n",
    "                            else:\n",
    "                                weight = 1\n",
    "                            neighbours.append((w, weight))\n",
    "                    if j < n-1:\n",
    "                        if maze_matrix[i][j + 1] != 'X':\n",
    "                            w = (i, j+1)\n",
    "                            if maze_matrix [i][j+1] == '#':\n",
    "                                weight = 2\n",
    "                            else:\n",
    "                                weight = 1\n",
    "                            neighbours.append((w, weight))      \n",
    "                G[v] = neighbours\n",
    "        return start, finish, G"
   ]
  },
  {
   "cell_type": "code",
   "execution_count": 5,
   "id": "6743e7ec",
   "metadata": {},
   "outputs": [],
   "source": [
    "def h(v_coords):\n",
    "    v_x1 = int(v_coords[0])\n",
    "    v_y1 = int(v_coords[1])\n",
    "    finish_x1 = int(finish[0])\n",
    "    finish_x2 = int(finish[1])\n",
    "    \n",
    "    return abs(v_x1 - finish_x1) + abs(v_y1 - finish_y1)"
   ]
  },
  {
   "cell_type": "code",
   "execution_count": 23,
   "id": "56c55a5d",
   "metadata": {},
   "outputs": [],
   "source": [
    "def astar(start, finish, G):\n",
    "    open_list = set([start])\n",
    "    closed_list = set([])\n",
    "    \n",
    "    g = {}\n",
    "    g[start]= 0\n",
    "    parents = {}\n",
    "    parents[start] = None\n",
    "    \n",
    "    while len(open_list) > 0:\n",
    "        n = None\n",
    "        for v in open_list:\n",
    "            if n == None or g[v] + h(v) < g[n] + h(n):\n",
    "                n = v\n",
    "            if n == finish:\n",
    "                path = []\n",
    "                path.append(stop)\n",
    "                tmp = parents[stop]\n",
    "                while tmp != None:\n",
    "                    path.append(tmp)\n",
    "                    tmp = parents[tmp]\n",
    "                path.reverse()\n",
    "                return path\n",
    "            for m, weight in G[n]:\n",
    "                if m not in open_list and m not in closed_list:\n",
    "                    open_list.add(m)\n",
    "                    parents[m] = n\n",
    "                    g[m] = g[n] + weight\n",
    "                else:\n",
    "                    if g[m] > g[n] + weight:\n",
    "                        g[m] = g[n] + weight\n",
    "                        parents[m] = n\n",
    "                        if m in closed_list:\n",
    "                            closed_list.remove(m)\n",
    "                            open_list.add(m)\n",
    "            open_list.remove(n)\n",
    "            closed_list.add(n)\n",
    "        return None\n",
    "                "
   ]
  },
  {
   "cell_type": "code",
   "execution_count": 24,
   "id": "0b8141bc",
   "metadata": {},
   "outputs": [],
   "source": [
    "maze = Maze(maze_matrix)"
   ]
  },
  {
   "cell_type": "markdown",
   "id": "8258922a",
   "metadata": {},
   "source": [
    "maze = Maze(maze_matrix)"
   ]
  },
  {
   "cell_type": "code",
   "execution_count": 25,
   "id": "74d76797",
   "metadata": {},
   "outputs": [
    {
     "data": {
      "text/plain": [
       "(0, 0)"
      ]
     },
     "execution_count": 25,
     "metadata": {},
     "output_type": "execute_result"
    }
   ],
   "source": [
    "maze.start"
   ]
  },
  {
   "cell_type": "code",
   "execution_count": 26,
   "id": "00efcd95",
   "metadata": {},
   "outputs": [
    {
     "data": {
      "text/plain": [
       "(7, 7)"
      ]
     },
     "execution_count": 26,
     "metadata": {},
     "output_type": "execute_result"
    }
   ],
   "source": [
    "maze.finish"
   ]
  },
  {
   "cell_type": "markdown",
   "id": "81bb6da0",
   "metadata": {},
   "source": [
    "resenje = astar(maze.start, maze.finish, maze.G)\n"
   ]
  },
  {
   "cell_type": "code",
   "execution_count": 27,
   "id": "c4278a48",
   "metadata": {},
   "outputs": [
    {
     "ename": "RuntimeError",
     "evalue": "Set changed size during iteration",
     "output_type": "error",
     "traceback": [
      "\u001b[0;31m---------------------------------------------------------------------------\u001b[0m",
      "\u001b[0;31mRuntimeError\u001b[0m                              Traceback (most recent call last)",
      "Cell \u001b[0;32mIn[27], line 1\u001b[0m\n\u001b[0;32m----> 1\u001b[0m resenje \u001b[38;5;241m=\u001b[39m \u001b[43mastar\u001b[49m\u001b[43m(\u001b[49m\u001b[43mmaze\u001b[49m\u001b[38;5;241;43m.\u001b[39;49m\u001b[43mstart\u001b[49m\u001b[43m,\u001b[49m\u001b[43m \u001b[49m\u001b[43mmaze\u001b[49m\u001b[38;5;241;43m.\u001b[39;49m\u001b[43mfinish\u001b[49m\u001b[43m,\u001b[49m\u001b[43m \u001b[49m\u001b[43mmaze\u001b[49m\u001b[38;5;241;43m.\u001b[39;49m\u001b[43mG\u001b[49m\u001b[43m)\u001b[49m\n",
      "Cell \u001b[0;32mIn[23], line 12\u001b[0m, in \u001b[0;36mastar\u001b[0;34m(start, finish, G)\u001b[0m\n\u001b[1;32m     10\u001b[0m \u001b[38;5;28;01mwhile\u001b[39;00m \u001b[38;5;28mlen\u001b[39m(open_list) \u001b[38;5;241m>\u001b[39m \u001b[38;5;241m0\u001b[39m:\n\u001b[1;32m     11\u001b[0m     n \u001b[38;5;241m=\u001b[39m \u001b[38;5;28;01mNone\u001b[39;00m\n\u001b[0;32m---> 12\u001b[0m     \u001b[38;5;28;01mfor\u001b[39;00m v \u001b[38;5;129;01min\u001b[39;00m open_list:\n\u001b[1;32m     13\u001b[0m         \u001b[38;5;28;01mif\u001b[39;00m n \u001b[38;5;241m==\u001b[39m \u001b[38;5;28;01mNone\u001b[39;00m \u001b[38;5;129;01mor\u001b[39;00m g[v] \u001b[38;5;241m+\u001b[39m h(v) \u001b[38;5;241m<\u001b[39m g[n] \u001b[38;5;241m+\u001b[39m h(n):\n\u001b[1;32m     14\u001b[0m             n \u001b[38;5;241m=\u001b[39m v\n",
      "\u001b[0;31mRuntimeError\u001b[0m: Set changed size during iteration"
     ]
    }
   ],
   "source": [
    "resenje = astar(maze.start, maze.finish, maze.G)"
   ]
  },
  {
   "cell_type": "code",
   "execution_count": null,
   "id": "adca4979",
   "metadata": {},
   "outputs": [],
   "source": []
  },
  {
   "cell_type": "code",
   "execution_count": null,
   "id": "4a86bbbf",
   "metadata": {},
   "outputs": [],
   "source": []
  },
  {
   "cell_type": "code",
   "execution_count": null,
   "id": "e868bd64",
   "metadata": {},
   "outputs": [],
   "source": []
  },
  {
   "cell_type": "code",
   "execution_count": null,
   "id": "ceeded87",
   "metadata": {},
   "outputs": [],
   "source": []
  },
  {
   "cell_type": "markdown",
   "id": "06671e9b",
   "metadata": {},
   "source": []
  },
  {
   "cell_type": "code",
   "execution_count": 10,
   "id": "ed21be7b",
   "metadata": {},
   "outputs": [
    {
     "ename": "RuntimeError",
     "evalue": "Set changed size during iteration",
     "output_type": "error",
     "traceback": [
      "\u001b[0;31m---------------------------------------------------------------------------\u001b[0m",
      "\u001b[0;31mRuntimeError\u001b[0m                              Traceback (most recent call last)",
      "Cell \u001b[0;32mIn[10], line 1\u001b[0m\n\u001b[0;32m----> 1\u001b[0m \u001b[38;5;28mprint\u001b[39m(\u001b[43msolve\u001b[49m\u001b[43m(\u001b[49m\u001b[43m)\u001b[49m)\n",
      "Cell \u001b[0;32mIn[7], line 2\u001b[0m, in \u001b[0;36msolve\u001b[0;34m()\u001b[0m\n\u001b[1;32m      1\u001b[0m \u001b[38;5;28;01mdef\u001b[39;00m \u001b[38;5;21msolve\u001b[39m():\n\u001b[0;32m----> 2\u001b[0m     path \u001b[38;5;241m=\u001b[39m \u001b[43mastar\u001b[49m\u001b[43m(\u001b[49m\u001b[43mmaze\u001b[49m\u001b[38;5;241;43m.\u001b[39;49m\u001b[43mstart\u001b[49m\u001b[43m,\u001b[49m\u001b[43m \u001b[49m\u001b[43mmaze\u001b[49m\u001b[38;5;241;43m.\u001b[39;49m\u001b[43mfinish\u001b[49m\u001b[43m,\u001b[49m\u001b[43m \u001b[49m\u001b[43mmaze\u001b[49m\u001b[38;5;241;43m.\u001b[39;49m\u001b[43mG\u001b[49m\u001b[43m)\u001b[49m\n",
      "Cell \u001b[0;32mIn[6], line 12\u001b[0m, in \u001b[0;36mastar\u001b[0;34m(start, stop, G)\u001b[0m\n\u001b[1;32m     10\u001b[0m \u001b[38;5;28;01mwhile\u001b[39;00m \u001b[38;5;28mlen\u001b[39m(open_list) \u001b[38;5;241m>\u001b[39m \u001b[38;5;241m0\u001b[39m:\n\u001b[1;32m     11\u001b[0m     n \u001b[38;5;241m=\u001b[39m \u001b[38;5;28;01mNone\u001b[39;00m\n\u001b[0;32m---> 12\u001b[0m     \u001b[38;5;28;01mfor\u001b[39;00m v \u001b[38;5;129;01min\u001b[39;00m open_list:\n\u001b[1;32m     13\u001b[0m         \u001b[38;5;28;01mif\u001b[39;00m n \u001b[38;5;241m==\u001b[39m \u001b[38;5;28;01mNone\u001b[39;00m \u001b[38;5;129;01mor\u001b[39;00m g[v] \u001b[38;5;241m+\u001b[39m h(v) \u001b[38;5;241m<\u001b[39m g[n] \u001b[38;5;241m+\u001b[39m h(n):\n\u001b[1;32m     14\u001b[0m             n \u001b[38;5;241m=\u001b[39m v\n",
      "\u001b[0;31mRuntimeError\u001b[0m: Set changed size during iteration"
     ]
    }
   ],
   "source": [
    "print(solve())"
   ]
  },
  {
   "cell_type": "code",
   "execution_count": null,
   "id": "68649f12",
   "metadata": {},
   "outputs": [],
   "source": []
  }
 ],
 "metadata": {
  "kernelspec": {
   "display_name": "Python 3 (ipykernel)",
   "language": "python",
   "name": "python3"
  },
  "language_info": {
   "codemirror_mode": {
    "name": "ipython",
    "version": 3
   },
   "file_extension": ".py",
   "mimetype": "text/x-python",
   "name": "python",
   "nbconvert_exporter": "python",
   "pygments_lexer": "ipython3",
   "version": "3.10.6"
  }
 },
 "nbformat": 4,
 "nbformat_minor": 5
}
